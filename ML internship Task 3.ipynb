{
 "cells": [
  {
   "cell_type": "code",
   "execution_count": null,
   "metadata": {},
   "outputs": [],
   "source": [
    "import pandas as pd\n",
    "\n",
    "# Load the dataset\n",
    "df = pd.read_csv('C:/Users/Lenovo/Desktop/TASKS/Queries.csv')\n",
    "\n",
    "\n",
    "# Display DataFrame info to understand data types and check for null values\n",
    "print(\"DataFrame Info:\")\n",
    "df.info()\n",
    "\n",
    "# Check for any null values in the dataset\n",
    "print(\"\\nNull Values in the Dataset:\")\n",
    "print(df.isnull().sum())\n",
    "\n",
    "# Get descriptive statistics for numerical columns\n",
    "print(\"\\nDescriptive Statistics:\")\n",
    "print(df.describe())\n"
   ]
  },
  {
   "cell_type": "code",
   "execution_count": null,
   "metadata": {
    "metadata": {}
   },
   "outputs": [],
   "source": [
    "import pandas as pd\n",
    "\n",
    "# Load the dataset\n",
    "df = pd.read_csv('C:/Users/Lenovo/Desktop/TASKS/Queries.csv')\n",
    "\n",
    "# Remove the '%' sign and convert the CTR column from string to float\n",
    "df['CTR'] = df['CTR'].str.replace('%', '').astype(float) / 100\n",
    "\n",
    "# Display the modified DataFrame to confirm the changes using the correct column names\n",
    "print(df[['Top queries', 'CTR']])\n"
   ]
  },
  {
   "cell_type": "code",
   "execution_count": null,
   "metadata": {
    "metadata": {}
   },
   "outputs": [],
   "source": [
    "import pandas as pd\n",
    "import matplotlib.pyplot as plt\n",
    "from collections import Counter\n",
    "import re\n",
    "\n",
    "# Load the dataset\n",
    "df = pd.read_csv('C:/Users/Lenovo/Desktop/TASKS/Queries.csv')\n",
    "\n",
    "# Function to clean and split text\n",
    "def clean_and_split(text):\n",
    "    # Remove punctuation and convert to lower case\n",
    "    text = re.sub(r'[^\\w\\s]', '', text).lower()\n",
    "    return text.split()\n",
    "\n",
    "# Apply the function and count words\n",
    "word_counts = Counter()\n",
    "df['Top queries'].apply(lambda x: word_counts.update(clean_and_split(x)))\n",
    "\n",
    "# Display the most common words\n",
    "print(word_counts.most_common(20))\n",
    "\n",
    "# Plot the top 20 most common words\n",
    "top_words = word_counts.most_common(20)\n",
    "words, counts = zip(*top_words)  # Unzip the pairs into two lists\n",
    "\n",
    "plt.figure(figsize=(10, 8))\n",
    "plt.bar(words, counts)\n",
    "plt.xlabel('Words')\n",
    "plt.ylabel('Frequency')\n",
    "plt.title('Top 20 Most Common Words in Search Queries')\n",
    "plt.xticks(rotation=45)\n",
    "plt.show()\n"
   ]
  },
  {
   "cell_type": "code",
   "execution_count": null,
   "metadata": {
    "metadata": {}
   },
   "outputs": [],
   "source": [
    "import pandas as pd\n",
    "\n",
    "# Load the dataset\n",
    "df = pd.read_csv('C:/Users/Lenovo/Desktop/TASKS/Queries.csv')\n",
    "\n",
    "# Convert 'Clicks' and 'Impressions' to numeric if they are not already\n",
    "df['Clicks'] = pd.to_numeric(df['Clicks'], errors='coerce')\n",
    "df['Impressions'] = pd.to_numeric(df['Impressions'], errors='coerce')\n",
    "\n",
    "# Sort by Clicks and display the top 10 queries\n",
    "top_clicks = df.sort_values(by='Clicks', ascending=False).head(10)\n",
    "print(\"Top 10 Queries by Clicks:\")\n",
    "print(top_clicks[['Top queries', 'Clicks']])\n",
    "\n",
    "# Sort by Impressions and display the top 10 queries\n",
    "top_impressions = df.sort_values(by='Impressions', ascending=False).head(10)\n",
    "print(\"\\nTop 10 Queries by Impressions:\")\n",
    "print(top_impressions[['Top queries', 'Impressions']])\n"
   ]
  },
  {
   "cell_type": "code",
   "execution_count": null,
   "metadata": {
    "metadata": {}
   },
   "outputs": [],
   "source": [
    "import pandas as pd\n",
    "\n",
    "# Load the dataset\n",
    "df = pd.read_csv('C:/Users/Lenovo/Desktop/TASKS/Queries.csv')\n",
    "\n",
    "# Remove the '%' sign and convert the CTR column from string to float\n",
    "df['CTR'] = df['CTR'].str.replace('%', '').astype(float) / 100\n",
    "\n",
    "# Sort by CTR and display the top 10 queries with the highest CTR\n",
    "top_ctr = df.sort_values(by='CTR', ascending=False).head(10)\n",
    "print(\"Top 10 Queries by Highest CTR:\")\n",
    "print(top_ctr[['Top queries', 'CTR']])\n",
    "\n",
    "# Sort by CTR and display the top 10 queries with the lowest CTR (excluding zeros if necessary)\n",
    "bottom_ctr = df.sort_values(by='CTR', ascending=True).head(10)\n",
    "print(\"\\nTop 10 Queries by Lowest CTR:\")\n",
    "print(bottom_ctr[['Top queries', 'CTR']])\n"
   ]
  },
  {
   "cell_type": "code",
   "execution_count": null,
   "metadata": {
    "metadata": {}
   },
   "outputs": [],
   "source": [
    "import pandas as pd\n",
    "import seaborn as sns\n",
    "import matplotlib.pyplot as plt\n",
    "\n",
    "# Load the dataset\n",
    "df = pd.read_csv('C:/Users/Lenovo/Desktop/TASKS/Queries.csv')\n",
    "\n",
    "# Convert relevant columns to numeric if they are not already\n",
    "df['Clicks'] = pd.to_numeric(df['Clicks'], errors='coerce')\n",
    "df['Impressions'] = pd.to_numeric(df['Impressions'], errors='coerce')\n",
    "df['CTR'] = df['CTR'].str.replace('%', '').astype(float) / 100\n",
    "df['Position'] = pd.to_numeric(df['Position'], errors='coerce')\n",
    "\n",
    "# Calculate the correlation matrix\n",
    "corr_matrix = df[['Clicks', 'Impressions', 'CTR', 'Position']].corr()\n",
    "\n",
    "# Plot the correlation matrix\n",
    "plt.figure(figsize=(8, 6))\n",
    "sns.heatmap(corr_matrix, annot=True, fmt=\".2f\", cmap='coolwarm', cbar=True)\n",
    "plt.title('Correlation Matrix of Clicks, Impressions, CTR, and Position')\n",
    "plt.show()\n"
   ]
  },
  {
   "cell_type": "code",
   "execution_count": null,
   "metadata": {
    "metadata": {}
   },
   "outputs": [],
   "source": [
    "import pandas as pd\n",
    "from sklearn.ensemble import IsolationForest\n",
    "\n",
    "# Load the dataset\n",
    "df = pd.read_csv('C:/Users/Lenovo/Desktop/TASKS/Queries.csv')\n",
    "\n",
    "# Convert relevant columns to numeric if they are not already\n",
    "df['Clicks'] = pd.to_numeric(df['Clicks'], errors='coerce')\n",
    "df['Impressions'] = pd.to_numeric(df['Impressions'], errors='coerce')\n",
    "df['CTR'] = df['CTR'].str.replace('%', '').astype(float) / 100\n",
    "df['Position'] = pd.to_numeric(df['Position'], errors='coerce')\n",
    "\n",
    "# Handle missing values if any\n",
    "df.dropna(inplace=True)\n",
    "\n",
    "# Set up the Isolation Forest model\n",
    "iso_forest = IsolationForest(n_estimators=100, contamination=0.01)  # contamination is an estimate of the % of anomalies\n",
    "\n",
    "# Fit the model on the data\n",
    "iso_forest.fit(df[['Clicks', 'Impressions', 'CTR', 'Position']])\n",
    "\n",
    "# Predict anomalies (-1 for anomalies, 1 for normal)\n",
    "df['anomaly'] = iso_forest.predict(df[['Clicks', 'Impressions', 'CTR', 'Position']])\n",
    "\n",
    "# Display anomalies\n",
    "anomalies = df[df['anomaly'] == -1]\n",
    "print(\"Detected Anomalies:\")\n",
    "print(anomalies[['Top queries', 'Clicks', 'Impressions', 'CTR', 'Position']])\n"
   ]
  }
 ],
 "metadata": {
  "kernelspec": {
   "display_name": "Python 3",
   "language": "python",
   "name": "python3"
  },
  "language_info": {
   "codemirror_mode": {
    "name": "ipython",
    "version": 3
   },
   "file_extension": ".py",
   "mimetype": "text/x-python",
   "name": "python",
   "nbconvert_exporter": "python",
   "pygments_lexer": "ipython3",
   "version": "3.12.2"
  }
 },
 "nbformat": 4,
 "nbformat_minor": 2
}
